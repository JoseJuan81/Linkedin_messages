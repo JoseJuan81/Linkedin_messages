{
 "cells": [
  {
   "cell_type": "code",
   "execution_count": 3,
   "id": "92927156-c08f-4607-b625-63755b06f416",
   "metadata": {
    "tags": []
   },
   "outputs": [],
   "source": [
    "from Class.LinkedIn import LinkedInMessage"
   ]
  },
  {
   "cell_type": "code",
   "execution_count": null,
   "id": "a8e9d1fa-c88a-4852-92ba-a3dbea0c2eca",
   "metadata": {},
   "outputs": [],
   "source": [
    "COMPANY_NAME = \"los_quenuales\"\n",
    "\n",
    "if __name__ == \"__main__\":\n",
    "    message = LinkedInMessage(COMPANY_NAME)\n",
    "    message.browser_start()\n",
    "    message.send()\n"
   ]
  }
 ],
 "metadata": {
  "kernelspec": {
   "display_name": "Python 3 (ipykernel)",
   "language": "python",
   "name": "python3"
  },
  "language_info": {
   "codemirror_mode": {
    "name": "ipython",
    "version": 3
   },
   "file_extension": ".py",
   "mimetype": "text/x-python",
   "name": "python",
   "nbconvert_exporter": "python",
   "pygments_lexer": "ipython3",
   "version": "3.11.3"
  }
 },
 "nbformat": 4,
 "nbformat_minor": 5
}
