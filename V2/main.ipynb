{
 "cells": [
  {
   "cell_type": "code",
   "execution_count": 1,
   "id": "92927156-c08f-4607-b625-63755b06f416",
   "metadata": {
    "tags": []
   },
   "outputs": [],
   "source": [
    "from Class.LinkedIn import LinkedInMessage"
   ]
  },
  {
   "cell_type": "code",
   "execution_count": 2,
   "id": "a8e9d1fa-c88a-4852-92ba-a3dbea0c2eca",
   "metadata": {
    "tags": []
   },
   "outputs": [
    {
     "name": "stdout",
     "output_type": "stream",
     "text": [
      "==================================================\n",
      "Fueron encontrados 8 archivos\n",
      "en el directorio D:\\PROGRAMAS\\JUPYTER\\Scraping-linkedin\\data\\gold_field\n",
      "==================================================\n",
      "==================================================\n",
      "Fueron encontrados: 52 contactos\n",
      "en la empresa gold_field\n",
      "==================================================\n",
      "==================================================\n",
      "Contador: 1/52\n",
      "Pág. de Bruce Mutch Escudero\n"
     ]
    },
    {
     "ename": "FileNotFoundError",
     "evalue": "[WinError 3] El sistema no puede encontrar la ruta especificada: 'D:\\\\PROGRAMAS\\\\JUPYTER\\\\LinkedIn_messages\\\\V2\\\\LinkedIn_messages\\\\messages'",
     "output_type": "error",
     "traceback": [
      "\u001b[1;31m---------------------------------------------------------------------------\u001b[0m",
      "\u001b[1;31mFileNotFoundError\u001b[0m                         Traceback (most recent call last)",
      "Cell \u001b[1;32mIn[2], line 6\u001b[0m\n\u001b[0;32m      4\u001b[0m message \u001b[38;5;241m=\u001b[39m LinkedInMessage(COMPANY_NAME)\n\u001b[0;32m      5\u001b[0m message\u001b[38;5;241m.\u001b[39mbrowser_start()\n\u001b[1;32m----> 6\u001b[0m message\u001b[38;5;241m.\u001b[39msend()\n",
      "File \u001b[1;32mD:\\PROGRAMAS\\JUPYTER\\LinkedIn_messages\\V2\\Class\\LinkedIn.py:90\u001b[0m, in \u001b[0;36mLinkedInMessage.send\u001b[1;34m(self)\u001b[0m\n\u001b[0;32m     87\u001b[0m     time_to_sleep(\u001b[38;5;241m1\u001b[39m, \u001b[38;5;241m5\u001b[39m)\n\u001b[0;32m     89\u001b[0m \u001b[38;5;28;01mif\u001b[39;00m ACTION_CONNECT \u001b[38;5;129;01min\u001b[39;00m actions:\n\u001b[1;32m---> 90\u001b[0m     message \u001b[38;5;241m=\u001b[39m \u001b[38;5;28mself\u001b[39m\u001b[38;5;241m.\u001b[39mselect_message(key_position)\n\u001b[0;32m     91\u001b[0m     \u001b[38;5;28mself\u001b[39m\u001b[38;5;241m.\u001b[39mselenium\u001b[38;5;241m.\u001b[39mpress_connect_button(name, message)\n\u001b[0;32m     92\u001b[0m     contact[\u001b[38;5;124m\"\u001b[39m\u001b[38;5;124mstatus\u001b[39m\u001b[38;5;124m\"\u001b[39m] \u001b[38;5;241m=\u001b[39m ACTION_CONNECT\n",
      "File \u001b[1;32mD:\\PROGRAMAS\\JUPYTER\\LinkedIn_messages\\V2\\Class\\LinkedIn.py:57\u001b[0m, in \u001b[0;36mLinkedInMessage.select_message\u001b[1;34m(self, position)\u001b[0m\n\u001b[0;32m     54\u001b[0m \u001b[38;5;250m\u001b[39m\u001b[38;5;124;03m\"\"\"Seleccionar mensaje en función del cargo\"\"\"\u001b[39;00m\n\u001b[0;32m     56\u001b[0m message_path \u001b[38;5;241m=\u001b[39m get_message_dir_path()\n\u001b[1;32m---> 57\u001b[0m files \u001b[38;5;241m=\u001b[39m [f \u001b[38;5;28;01mfor\u001b[39;00m f \u001b[38;5;129;01min\u001b[39;00m message_path\u001b[38;5;241m.\u001b[39miterdir() \u001b[38;5;28;01mif\u001b[39;00m f\u001b[38;5;241m.\u001b[39msuffix \u001b[38;5;241m==\u001b[39m \u001b[38;5;124m\"\u001b[39m\u001b[38;5;124m.txt\u001b[39m\u001b[38;5;124m\"\u001b[39m]\n\u001b[0;32m     58\u001b[0m txt \u001b[38;5;241m=\u001b[39m match_file_and_get_content(position, files)\n\u001b[0;32m     60\u001b[0m \u001b[38;5;28;01mreturn\u001b[39;00m txt\n",
      "File \u001b[1;32mD:\\PROGRAMAS\\JUPYTER\\LinkedIn_messages\\V2\\Class\\LinkedIn.py:57\u001b[0m, in \u001b[0;36m<listcomp>\u001b[1;34m(.0)\u001b[0m\n\u001b[0;32m     54\u001b[0m \u001b[38;5;250m\u001b[39m\u001b[38;5;124;03m\"\"\"Seleccionar mensaje en función del cargo\"\"\"\u001b[39;00m\n\u001b[0;32m     56\u001b[0m message_path \u001b[38;5;241m=\u001b[39m get_message_dir_path()\n\u001b[1;32m---> 57\u001b[0m files \u001b[38;5;241m=\u001b[39m [f \u001b[38;5;28;01mfor\u001b[39;00m f \u001b[38;5;129;01min\u001b[39;00m message_path\u001b[38;5;241m.\u001b[39miterdir() \u001b[38;5;28;01mif\u001b[39;00m f\u001b[38;5;241m.\u001b[39msuffix \u001b[38;5;241m==\u001b[39m \u001b[38;5;124m\"\u001b[39m\u001b[38;5;124m.txt\u001b[39m\u001b[38;5;124m\"\u001b[39m]\n\u001b[0;32m     58\u001b[0m txt \u001b[38;5;241m=\u001b[39m match_file_and_get_content(position, files)\n\u001b[0;32m     60\u001b[0m \u001b[38;5;28;01mreturn\u001b[39;00m txt\n",
      "File \u001b[1;32m~\\anaconda3\\Lib\\pathlib.py:931\u001b[0m, in \u001b[0;36mPath.iterdir\u001b[1;34m(self)\u001b[0m\n\u001b[0;32m    927\u001b[0m \u001b[38;5;28;01mdef\u001b[39;00m \u001b[38;5;21miterdir\u001b[39m(\u001b[38;5;28mself\u001b[39m):\n\u001b[0;32m    928\u001b[0m \u001b[38;5;250m    \u001b[39m\u001b[38;5;124;03m\"\"\"Iterate over the files in this directory.  Does not yield any\u001b[39;00m\n\u001b[0;32m    929\u001b[0m \u001b[38;5;124;03m    result for the special paths '.' and '..'.\u001b[39;00m\n\u001b[0;32m    930\u001b[0m \u001b[38;5;124;03m    \"\"\"\u001b[39;00m\n\u001b[1;32m--> 931\u001b[0m     \u001b[38;5;28;01mfor\u001b[39;00m name \u001b[38;5;129;01min\u001b[39;00m os\u001b[38;5;241m.\u001b[39mlistdir(\u001b[38;5;28mself\u001b[39m):\n\u001b[0;32m    932\u001b[0m         \u001b[38;5;28;01myield\u001b[39;00m \u001b[38;5;28mself\u001b[39m\u001b[38;5;241m.\u001b[39m_make_child_relpath(name)\n",
      "\u001b[1;31mFileNotFoundError\u001b[0m: [WinError 3] El sistema no puede encontrar la ruta especificada: 'D:\\\\PROGRAMAS\\\\JUPYTER\\\\LinkedIn_messages\\\\V2\\\\LinkedIn_messages\\\\messages'"
     ]
    }
   ],
   "source": [
    "COMPANY_NAME = \"gold_field\"\n",
    "\n",
    "if __name__ == \"__main__\":\n",
    "    message = LinkedInMessage(COMPANY_NAME)\n",
    "    message.browser_start()\n",
    "    message.send()\n"
   ]
  },
  {
   "cell_type": "code",
   "execution_count": null,
   "id": "c549fc10-8546-4292-a243-fda4fc73fcec",
   "metadata": {},
   "outputs": [],
   "source": []
  }
 ],
 "metadata": {
  "kernelspec": {
   "display_name": "Python 3 (ipykernel)",
   "language": "python",
   "name": "python3"
  },
  "language_info": {
   "codemirror_mode": {
    "name": "ipython",
    "version": 3
   },
   "file_extension": ".py",
   "mimetype": "text/x-python",
   "name": "python",
   "nbconvert_exporter": "python",
   "pygments_lexer": "ipython3",
   "version": "3.11.3"
  }
 },
 "nbformat": 4,
 "nbformat_minor": 5
}
