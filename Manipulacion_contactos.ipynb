{
 "cells": [
  {
   "cell_type": "code",
   "execution_count": 39,
   "id": "b4525f3e-f425-4f77-8cc9-c7d2a649186d",
   "metadata": {},
   "outputs": [],
   "source": [
    "from pathlib import Path\n",
    "import pandas as pd\n",
    "import os"
   ]
  },
  {
   "cell_type": "code",
   "execution_count": 40,
   "id": "16b83b94-9606-4bc0-bb37-149266748ad8",
   "metadata": {},
   "outputs": [
    {
     "data": {
      "text/plain": [
       "'C:\\\\Users\\\\domin\\\\JUPYTERLAB\\\\LinkedIn_messages'"
      ]
     },
     "execution_count": 40,
     "metadata": {},
     "output_type": "execute_result"
    }
   ],
   "source": [
    "os.getcwd()"
   ]
  },
  {
   "cell_type": "code",
   "execution_count": 41,
   "id": "8a8a8649-0cc9-4f06-9d25-78054505e362",
   "metadata": {},
   "outputs": [
    {
     "data": {
      "text/plain": [
       "[WindowsPath('result/acero_arequipa.csv'),\n",
       " WindowsPath('result/angloamerica.csv'),\n",
       " WindowsPath('result/buenaventura.csv'),\n",
       " WindowsPath('result/cerro_verde.csv'),\n",
       " WindowsPath('result/chinalco.csv'),\n",
       " WindowsPath('result/glencore.csv'),\n",
       " WindowsPath('result/hudbay.csv'),\n",
       " WindowsPath('result/las_bambas.csv'),\n",
       " WindowsPath('result/minsur.csv'),\n",
       " WindowsPath('result/pascamayo.csv'),\n",
       " WindowsPath('result/sheldon.csv'),\n",
       " WindowsPath('result/southern.csv'),\n",
       " WindowsPath('result/southern_peaks.csv'),\n",
       " WindowsPath('result/yanacocha.csv')]"
      ]
     },
     "execution_count": 41,
     "metadata": {},
     "output_type": "execute_result"
    }
   ],
   "source": [
    "result_dir = Path(\"./result\")\n",
    "files_array = [f for f in result_dir.iterdir() if f.suffix == \".csv\"]\n",
    "files_array"
   ]
  },
  {
   "cell_type": "code",
   "execution_count": 48,
   "id": "c235670c-7492-4ecf-9f38-d41f5383664c",
   "metadata": {},
   "outputs": [],
   "source": [
    "df = pd.concat([pd.read_csv(f, engine=\"python\", on_bad_lines='skip') for f in files_array], ignore_index=True)"
   ]
  },
  {
   "cell_type": "code",
   "execution_count": 77,
   "id": "cd18a668-de86-487e-95b7-818be30c3094",
   "metadata": {},
   "outputs": [],
   "source": [
    "filt_status = df[\"status\"] == \"error\"\n",
    "filt_wrong_url = df[\"link\"].str.contains(\"search\")\n",
    "filt = filt_status & ~filt_wrong_url\n",
    "errors = df.loc[filt]"
   ]
  },
  {
   "cell_type": "code",
   "execution_count": 78,
   "id": "ee43fc45-d7c7-47f5-88a7-5a8ca9a8e9b2",
   "metadata": {},
   "outputs": [],
   "source": [
    "filt_can_not_contact = df[\"status\"] == \"can_not_contact\"\n",
    "can_not_contact = df.loc[filt_can_not_contact]"
   ]
  },
  {
   "cell_type": "code",
   "execution_count": 81,
   "id": "dc3bdea6-2ebe-496e-bc25-e44a0fb16336",
   "metadata": {},
   "outputs": [],
   "source": [
    "merged = pd.concat([errors, can_not_contact])"
   ]
  },
  {
   "cell_type": "code",
   "execution_count": 83,
   "id": "4e738ffb-2a5d-4bc5-bcda-e53ab718f01e",
   "metadata": {},
   "outputs": [],
   "source": [
    "merged.to_csv(\"result/1.no_contacted_people.csv\")"
   ]
  },
  {
   "cell_type": "code",
   "execution_count": 80,
   "id": "4dc45aaa-5168-4af0-8a43-7f5617548d63",
   "metadata": {},
   "outputs": [
    {
     "data": {
      "text/html": [
       "<div>\n",
       "<style scoped>\n",
       "    .dataframe tbody tr th:only-of-type {\n",
       "        vertical-align: middle;\n",
       "    }\n",
       "\n",
       "    .dataframe tbody tr th {\n",
       "        vertical-align: top;\n",
       "    }\n",
       "\n",
       "    .dataframe thead th {\n",
       "        text-align: right;\n",
       "    }\n",
       "</style>\n",
       "<table border=\"1\" class=\"dataframe\">\n",
       "  <thead>\n",
       "    <tr style=\"text-align: right;\">\n",
       "      <th></th>\n",
       "      <th>item</th>\n",
       "      <th>name</th>\n",
       "      <th>position</th>\n",
       "      <th>key_position</th>\n",
       "      <th>company_page</th>\n",
       "      <th>company_name</th>\n",
       "      <th>status</th>\n",
       "      <th>link</th>\n",
       "    </tr>\n",
       "  </thead>\n",
       "  <tbody>\n",
       "    <tr>\n",
       "      <th>7</th>\n",
       "      <td>9</td>\n",
       "      <td>ESDRAS PALLARCO PUCLLA</td>\n",
       "      <td>Gestor de Compras en Corporación Aceros Arequipa</td>\n",
       "      <td>compras</td>\n",
       "      <td>22</td>\n",
       "      <td>acero_arequipa</td>\n",
       "      <td>error</td>\n",
       "      <td>https://www.linkedin.com/in/milagros-rospiglio...</td>\n",
       "    </tr>\n",
       "    <tr>\n",
       "      <th>17</th>\n",
       "      <td>19</td>\n",
       "      <td>Luis Arevalo Herrera</td>\n",
       "      <td>Compras en Corporación Aceros Arequipa S.A.</td>\n",
       "      <td>compras</td>\n",
       "      <td>88</td>\n",
       "      <td>acero_arequipa</td>\n",
       "      <td>error</td>\n",
       "      <td>https://www.linkedin.com/in/angelica-del-rosar...</td>\n",
       "    </tr>\n",
       "    <tr>\n",
       "      <th>45</th>\n",
       "      <td>26</td>\n",
       "      <td>Milagros Rospigliosi</td>\n",
       "      <td>Planificador de Mantenimiento en Corp. Aceros ...</td>\n",
       "      <td>mantenimiento</td>\n",
       "      <td>22</td>\n",
       "      <td>acero_arequipa</td>\n",
       "      <td>error</td>\n",
       "      <td>https://www.linkedin.com/in/ricardo-quispe-6a0...</td>\n",
       "    </tr>\n",
       "    <tr>\n",
       "      <th>46</th>\n",
       "      <td>27</td>\n",
       "      <td>Jeaneth Karina Condori Carpio</td>\n",
       "      <td>Planificador de Mantenimiento en Corp. Aceros ...</td>\n",
       "      <td>mantenimiento</td>\n",
       "      <td>22</td>\n",
       "      <td>acero_arequipa</td>\n",
       "      <td>error</td>\n",
       "      <td>https://www.linkedin.com/in/william-eduardo-pe...</td>\n",
       "    </tr>\n",
       "    <tr>\n",
       "      <th>56</th>\n",
       "      <td>37</td>\n",
       "      <td>Jesús Castillo</td>\n",
       "      <td>Supervisor de Mantenimiento Electrónico en Cor...</td>\n",
       "      <td>mantenimiento</td>\n",
       "      <td>42</td>\n",
       "      <td>acero_arequipa</td>\n",
       "      <td>error</td>\n",
       "      <td>https://www.linkedin.com/in/iv%C3%A1n-quispe-7...</td>\n",
       "    </tr>\n",
       "  </tbody>\n",
       "</table>\n",
       "</div>"
      ],
      "text/plain": [
       "   item                           name  \\\n",
       "7     9         ESDRAS PALLARCO PUCLLA   \n",
       "17   19           Luis Arevalo Herrera   \n",
       "45   26           Milagros Rospigliosi   \n",
       "46   27  Jeaneth Karina Condori Carpio   \n",
       "56   37                 Jesús Castillo   \n",
       "\n",
       "                                             position   key_position  \\\n",
       "7    Gestor de Compras en Corporación Aceros Arequipa        compras   \n",
       "17        Compras en Corporación Aceros Arequipa S.A.        compras   \n",
       "45  Planificador de Mantenimiento en Corp. Aceros ...  mantenimiento   \n",
       "46  Planificador de Mantenimiento en Corp. Aceros ...  mantenimiento   \n",
       "56  Supervisor de Mantenimiento Electrónico en Cor...  mantenimiento   \n",
       "\n",
       "   company_page    company_name status  \\\n",
       "7            22  acero_arequipa  error   \n",
       "17           88  acero_arequipa  error   \n",
       "45           22  acero_arequipa  error   \n",
       "46           22  acero_arequipa  error   \n",
       "56           42  acero_arequipa  error   \n",
       "\n",
       "                                                 link  \n",
       "7   https://www.linkedin.com/in/milagros-rospiglio...  \n",
       "17  https://www.linkedin.com/in/angelica-del-rosar...  \n",
       "45  https://www.linkedin.com/in/ricardo-quispe-6a0...  \n",
       "46  https://www.linkedin.com/in/william-eduardo-pe...  \n",
       "56  https://www.linkedin.com/in/iv%C3%A1n-quispe-7...  "
      ]
     },
     "execution_count": 80,
     "metadata": {},
     "output_type": "execute_result"
    }
   ],
   "source": [
    "errors.head()"
   ]
  },
  {
   "cell_type": "code",
   "execution_count": null,
   "id": "9cc0aad2-5fbc-4c6f-928f-5983d08c2c5a",
   "metadata": {},
   "outputs": [],
   "source": []
  }
 ],
 "metadata": {
  "kernelspec": {
   "display_name": "Python 3 (ipykernel)",
   "language": "python",
   "name": "python3"
  },
  "language_info": {
   "codemirror_mode": {
    "name": "ipython",
    "version": 3
   },
   "file_extension": ".py",
   "mimetype": "text/x-python",
   "name": "python",
   "nbconvert_exporter": "python",
   "pygments_lexer": "ipython3",
   "version": "3.10.9"
  }
 },
 "nbformat": 4,
 "nbformat_minor": 5
}
