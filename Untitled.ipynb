{
 "cells": [
  {
   "cell_type": "code",
   "execution_count": 1,
   "id": "06a67209-fe12-4c4b-8b8e-c2a79800a74c",
   "metadata": {
    "tags": []
   },
   "outputs": [
    {
     "ename": "IndentationError",
     "evalue": "expected an indented block after function definition on line 5 (test.py, line 8)",
     "output_type": "error",
     "traceback": [
      "\u001b[1;36m  File \u001b[1;32mD:\\PROGRAMAS\\JUPYTER\\LinkedIn_messages\\V2\\test.py:8\u001b[1;36m\u001b[0m\n\u001b[1;33m    if __name__ == \"__main__\":\u001b[0m\n\u001b[1;37m                              ^\u001b[0m\n\u001b[1;31mIndentationError\u001b[0m\u001b[1;31m:\u001b[0m expected an indented block after function definition on line 5\n"
     ]
    }
   ],
   "source": [
    "%run V2/test.py"
   ]
  },
  {
   "cell_type": "code",
   "execution_count": 2,
   "id": "ad5d0d19-403c-47ba-95fa-d25d47c1e093",
   "metadata": {
    "tags": []
   },
   "outputs": [],
   "source": [
    "from pathlib import Path"
   ]
  },
  {
   "cell_type": "code",
   "execution_count": 10,
   "id": "00d5197c-e377-4554-8032-da343d6ac194",
   "metadata": {
    "tags": []
   },
   "outputs": [
    {
     "data": {
      "text/plain": [
       "WindowsPath('D:/PROGRAMAS/JUPYTER/LinkedIn_messages')"
      ]
     },
     "execution_count": 10,
     "metadata": {},
     "output_type": "execute_result"
    }
   ],
   "source": [
    "Path().absolute()"
   ]
  },
  {
   "cell_type": "code",
   "execution_count": 9,
   "id": "294f9fdf-4e77-4f09-a906-43f951ef5608",
   "metadata": {
    "tags": []
   },
   "outputs": [
    {
     "data": {
      "text/plain": [
       "WindowsPath('D:/PROGRAMAS')"
      ]
     },
     "execution_count": 9,
     "metadata": {},
     "output_type": "execute_result"
    }
   ],
   "source": [
    "p.parents[1]"
   ]
  },
  {
   "cell_type": "code",
   "execution_count": 1,
   "id": "b622200d-c75e-4bf5-839a-03e249a1b3ac",
   "metadata": {
    "tags": []
   },
   "outputs": [],
   "source": [
    "from V2.Class.Contacts import Contacts"
   ]
  },
  {
   "cell_type": "code",
   "execution_count": 2,
   "id": "aed09690-af65-4bae-943d-4c4d5f9a000a",
   "metadata": {
    "tags": []
   },
   "outputs": [],
   "source": [
    "contact = Contacts()\n",
    "contact.get_source_path()\n",
    "contact.set_company_name(\"antamina\")\n",
    "contact.get_contacts_files()"
   ]
  },
  {
   "cell_type": "code",
   "execution_count": 3,
   "id": "d8dc4fa4-a9f0-4a7c-9fd5-0f46f889eb8a",
   "metadata": {
    "tags": []
   },
   "outputs": [],
   "source": [
    "import pandas as pd"
   ]
  },
  {
   "cell_type": "code",
   "execution_count": 6,
   "id": "fa236e50-fabc-46fe-8cdb-cfa5660bb328",
   "metadata": {
    "tags": []
   },
   "outputs": [],
   "source": [
    "df = pd.read_csv(contact.files[0], header=None)"
   ]
  },
  {
   "cell_type": "code",
   "execution_count": 14,
   "id": "2208736d-3bc7-4679-a1f1-f1ec121091d9",
   "metadata": {
    "tags": []
   },
   "outputs": [
    {
     "name": "stdout",
     "output_type": "stream",
     "text": [
      "['name: Jaime Hugo Gonzales Cordero']\n",
      "['position: Administrador de Compras e Inventario en Compañía Minera Antamina']\n",
      "['link: https://www.linkedin.com/in/jaime-hugo-gonzales-cordero-7884298a?miniProfileUrn=urn%3Ali%3Afs_miniProfile%3AACoAABLtsxgBHw-1c61qm_sR5KiIZddBLwjaIDk']\n",
      "['page: 56']\n",
      "['key_position: compras']\n",
      "['name: Luz Mireya Sevillano Olivos']\n",
      "['position: Coordinadora de compras locales y desarrollo de proveedores en Compañía Minera Antamina S.A.']\n",
      "['link: https://www.linkedin.com/in/luz-mireya-sevillano-olivos-17167a58?miniProfileUrn=urn%3Ali%3Afs_miniProfile%3AACoAAAwzg2UBPZektt3cTyzbYW1xsX1nWlFXQC4']\n",
      "['page: 77']\n",
      "['key_position: compras']\n",
      "['name: Dennys Alvarez']\n",
      "['position: Jefe de Logística Compras y Contratos en Compañia Minera Antamina S.A.']\n",
      "['link: https://www.linkedin.com/in/dennys-alvarez-a10690188?miniProfileUrn=urn%3Ali%3Afs_miniProfile%3AACoAACw9JqwBJxUpfGQoSP49feb-YL-HG5qKRgE']\n",
      "['page: 79']\n",
      "['key_position: compras']\n"
     ]
    }
   ],
   "source": [
    "for x in df.values:\n",
    "    print(x)"
   ]
  },
  {
   "cell_type": "code",
   "execution_count": null,
   "id": "2c7c562e-ad2c-4862-be11-e2e22a376a7e",
   "metadata": {},
   "outputs": [],
   "source": []
  }
 ],
 "metadata": {
  "kernelspec": {
   "display_name": "Python 3 (ipykernel)",
   "language": "python",
   "name": "python3"
  },
  "language_info": {
   "codemirror_mode": {
    "name": "ipython",
    "version": 3
   },
   "file_extension": ".py",
   "mimetype": "text/x-python",
   "name": "python",
   "nbconvert_exporter": "python",
   "pygments_lexer": "ipython3",
   "version": "3.11.3"
  }
 },
 "nbformat": 4,
 "nbformat_minor": 5
}
