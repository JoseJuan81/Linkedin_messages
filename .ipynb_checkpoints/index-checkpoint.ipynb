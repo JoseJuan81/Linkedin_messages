{
 "cells": [
  {
   "cell_type": "code",
   "execution_count": 1,
   "id": "b873c5b8-6f67-47b8-a2b7-78bef5041f9f",
   "metadata": {},
   "outputs": [],
   "source": [
    "# !pip install selenium"
   ]
  },
  {
   "cell_type": "code",
   "execution_count": 2,
   "id": "01857dc3-f2ba-4b30-8666-aaaaa87763b3",
   "metadata": {},
   "outputs": [],
   "source": [
    "#!pip install webdriver-manager"
   ]
  },
  {
   "cell_type": "markdown",
   "id": "f57d2a6a-4eda-4484-8775-291ff85543c1",
   "metadata": {},
   "source": [
    "## Instalar módulos"
   ]
  },
  {
   "cell_type": "code",
   "execution_count": 5,
   "id": "83c51b84-41fe-4ee1-9063-5f80f800e625",
   "metadata": {},
   "outputs": [],
   "source": [
    "import os\n",
    "import time\n",
    "from random import choice\n",
    "from selenium import webdriver\n",
    "from selenium.webdriver.chrome.options import Options\n",
    "from selenium.webdriver.common.by import By\n",
    "from selenium.webdriver.common.action_chains import ActionChains\n",
    "from constantes import urls, html_elements"
   ]
  },
  {
   "cell_type": "code",
   "execution_count": 6,
   "id": "6ba39130-8f26-41e2-a908-c623e7cef9b9",
   "metadata": {},
   "outputs": [],
   "source": [
    "#webdriver.support.wait.NoSuchElementException"
   ]
  },
  {
   "cell_type": "markdown",
   "id": "69c7e4f0-2bf4-49bf-b080-c5b26d3a78e1",
   "metadata": {},
   "source": [
    "## Obtener la ruta de directorio con archivos .txt con contactos"
   ]
  },
  {
   "cell_type": "code",
   "execution_count": 7,
   "id": "22abe986-d3e1-480d-b2d1-1c37452fe82f",
   "metadata": {},
   "outputs": [],
   "source": [
    "def get_jupyterlab_base_path():\n",
    "    \n",
    "    os.getcwd().split(\"\\\\\")[:-1]\n",
    "    return '\\\\'.join(os.getcwd().split(\"\\\\\")[:-1])"
   ]
  },
  {
   "cell_type": "code",
   "execution_count": 8,
   "id": "4d530646-a905-468c-b157-e09204ff4bd9",
   "metadata": {},
   "outputs": [],
   "source": [
    "def get_full_working_path(base, company_name):\n",
    "    data_dir = os.path.join(\"scraping-linkedin\", \"data\", company_name)\n",
    "    return os.path.join(base, data_dir)"
   ]
  },
  {
   "cell_type": "markdown",
   "id": "dcdd44ab-9318-4ef3-980a-29de1301d2ad",
   "metadata": {},
   "source": [
    "## Compañía"
   ]
  },
  {
   "cell_type": "code",
   "execution_count": 9,
   "id": "d95dbf20-b653-4541-b307-4d408cc5f366",
   "metadata": {},
   "outputs": [],
   "source": [
    "# angloamerica, antapaccay, antamina, aceros arequipa, southern, minsur, buenaventura, cerro_verde, chinalco,\n",
    "# yanacocha, sheldon, GLENCORE, Las Bambas, Minsur, pascamayo, sierra sun, hudbay, HOCHSCHILD, Minera_Aurífera_Retamas\n",
    "# Poderosa, Kolpa, Alpayana\n",
    "company_name = 'Bateas'"
   ]
  },
  {
   "cell_type": "code",
   "execution_count": 10,
   "id": "195d7936-e16d-4c01-b895-de7d2693a6e3",
   "metadata": {},
   "outputs": [],
   "source": [
    "base_dir = get_jupyterlab_base_path()\n",
    "working_dir = get_full_working_path(base_dir, company_name)"
   ]
  },
  {
   "cell_type": "markdown",
   "id": "b3fde23f-6641-440f-9256-1aea908003df",
   "metadata": {},
   "source": [
    "## Extraer solo los archivos .txt"
   ]
  },
  {
   "cell_type": "code",
   "execution_count": 11,
   "id": "6165ff7c-ee1b-4f71-8ad8-776bbdca023c",
   "metadata": {},
   "outputs": [],
   "source": [
    "all_files_list = os.listdir(working_dir)\n",
    "files = [file for file in all_files_list if file.split(\".\")[1] == \"txt\"]"
   ]
  },
  {
   "cell_type": "markdown",
   "id": "d0a749d7-af51-48f0-aa3d-91d1bb1053b7",
   "metadata": {
    "tags": []
   },
   "source": [
    "## Recorrer todos los archivos .txt y extraer la información de cada contacto y construir un arreglo de objetos con ellos"
   ]
  },
  {
   "cell_type": "markdown",
   "id": "917b0083-54b4-4d9d-a703-a0855a5b088c",
   "metadata": {},
   "source": [
    "### Leer un archivo y construir un arreglo de objeto a partir de la información obtenida"
   ]
  },
  {
   "cell_type": "code",
   "execution_count": 12,
   "id": "b6996144-82bb-4bb5-b006-efdcd48f5141",
   "metadata": {},
   "outputs": [],
   "source": [
    "def reading_file_line_by_line(file_path):\n",
    "    \n",
    "    result = []\n",
    "    personal = {}\n",
    "\n",
    "    with open(file_path, encoding=\"utf-8\") as file:\n",
    "\n",
    "        total_lines = len(file.readlines())\n",
    "        line_counter = 0\n",
    "        \n",
    "        file.seek(0)\n",
    "        for line in file:\n",
    "            line_counter += 1\n",
    "            line_in_array = line.split(\": \")\n",
    "            empty_line = len(line_in_array) == 1\n",
    "            is_last_line = total_lines == line_counter\n",
    "            \n",
    "            if empty_line:\n",
    "                result.append(personal)\n",
    "                personal = {}\n",
    "            elif is_last_line:\n",
    "                k = line_in_array[0].strip()\n",
    "                v = line_in_array[1].strip()\n",
    "                personal[k] = v\n",
    "                result.append(personal)\n",
    "            else:\n",
    "                k = line_in_array[0].strip()\n",
    "                v = line_in_array[1].strip()\n",
    "                personal[k] = v\n",
    "    \n",
    "    return result\n",
    "                "
   ]
  },
  {
   "cell_type": "markdown",
   "id": "b5d83f6b-4be3-45e6-8d67-847b223379e7",
   "metadata": {},
   "source": [
    "### Recorrer todos los archivos de contactos y aplicar la función reading_file_line_by_line()"
   ]
  },
  {
   "cell_type": "code",
   "execution_count": 13,
   "id": "d21480de-cdd8-43e0-b863-f3b5c44a9566",
   "metadata": {},
   "outputs": [],
   "source": [
    "def getting_data_from_all_files(working_dir, files):\n",
    "    result = []\n",
    "    \n",
    "    for file in files:\n",
    "        file_path = os.path.join(working_dir, file)\n",
    "        people_data = reading_file_line_by_line(file_path)\n",
    "        result += people_data\n",
    "    \n",
    "    return result"
   ]
  },
  {
   "cell_type": "code",
   "execution_count": 14,
   "id": "d984b391-0337-4fa5-b4b8-becc5f024b35",
   "metadata": {},
   "outputs": [
    {
     "name": "stdout",
     "output_type": "stream",
     "text": [
      "Hay 13 empleados a contactar\n"
     ]
    }
   ],
   "source": [
    "employees = getting_data_from_all_files(working_dir, files)\n",
    "print(f\"Hay {len(employees)} empleados a contactar\")"
   ]
  },
  {
   "cell_type": "markdown",
   "id": "30389efd-35eb-48e2-8140-8f5838847715",
   "metadata": {},
   "source": [
    "### Crear archivo `.csv` si no existe para almacenar resultado"
   ]
  },
  {
   "cell_type": "code",
   "execution_count": 15,
   "id": "19d365ea-c429-4c5b-8540-8cf6a3dbd900",
   "metadata": {},
   "outputs": [],
   "source": [
    "_files = os.listdir(os.getcwd())\n",
    "\n",
    "if f\"{company_name}.csv\" not in _files:\n",
    "    with open(f\"{company_name}.csv\", \"w\", encoding=\"utf-8\") as file:\n",
    "        file.write(\"item,name,position,key_position,company_page,company_name,status,link\")\n",
    "        file.write(\"\\n\")"
   ]
  },
  {
   "cell_type": "markdown",
   "id": "e1c2eeda-ef9e-4792-9e5c-e57ec79f0b9b",
   "metadata": {},
   "source": [
    "## Iniciar Navegador web"
   ]
  },
  {
   "cell_type": "code",
   "execution_count": 16,
   "id": "10cc5ff0-293b-40a8-8d54-87e19f7b30bc",
   "metadata": {},
   "outputs": [],
   "source": [
    "# iniciar selenium\n",
    "opts = Options()\n",
    "driver = webdriver.Chrome()"
   ]
  },
  {
   "cell_type": "markdown",
   "id": "bb5b7135-d15c-4985-879e-d97b8ce6d1a2",
   "metadata": {},
   "source": [
    "## Iniciar sesión en LinkedIn"
   ]
  },
  {
   "cell_type": "code",
   "execution_count": 17,
   "id": "266b95ee-7c30-40c9-ba38-d4044248572a",
   "metadata": {},
   "outputs": [],
   "source": [
    "# Inicio de sesión\n",
    "def get_login(driver):\n",
    "    driver.get(urls['home'])\n",
    "\n",
    "    secret_file = open('secret.txt', 'r')\n",
    "    lineas = secret_file.readlines()\n",
    "    user = lineas[0].strip()\n",
    "    password = lineas[1].strip()\n",
    "    secret_file.close()\n",
    "\n",
    "    input_user = driver.find_element(By.XPATH, html_elements['login__input_email'])\n",
    "    input_pass = driver.find_element(By.XPATH, html_elements['login__input_pass'])\n",
    "\n",
    "    input_user.send_keys(user)\n",
    "    input_pass.send_keys(password)\n",
    "\n",
    "    boton = driver.find_element(By.XPATH, html_elements['login__button'])\n",
    "    boton.click()"
   ]
  },
  {
   "cell_type": "code",
   "execution_count": 18,
   "id": "c5b842f5-7d60-4d9b-a7b7-5256f6169c32",
   "metadata": {},
   "outputs": [],
   "source": [
    "get_login(driver)"
   ]
  },
  {
   "cell_type": "markdown",
   "id": "36237bbb-32cb-491f-b89f-51f71534df73",
   "metadata": {},
   "source": [
    "### Abrir Chat de contacto"
   ]
  },
  {
   "cell_type": "code",
   "execution_count": 19,
   "id": "3cba1f58-32c7-47b0-afa5-023596527348",
   "metadata": {},
   "outputs": [],
   "source": [
    "section = '//section[@class=\"artdeco-card ember-view pv-top-card\"]'\n",
    "connect_button = '//button'\n",
    "connect_button_text = '//div//button//span'\n",
    "connect_modal = '//div[@role=\"dialog\"]'\n",
    "note_button = '//button[@aria-label=\"Añadir una nota\"]'\n",
    "text_area = '//textarea'\n",
    "send_message_buttons_container = '//div[@class=\"artdeco-modal__actionbar ember-view text-align-right\"]'\n",
    "send_message_button = '//button[@aria-label=\"Enviar ahora\"]'"
   ]
  },
  {
   "cell_type": "code",
   "execution_count": 20,
   "id": "70114fa5-ddba-49d7-9459-ca9f8d7528df",
   "metadata": {},
   "outputs": [],
   "source": [
    "def get_files_with_messages_by_position(full_path_dir):\n",
    "    getting_messages_files = os.listdir(full_path_dir)\n",
    "    files_messages = [file for file in getting_messages_files if file.split(\".\")[1] == \"txt\"]\n",
    "    return files_messages"
   ]
  },
  {
   "cell_type": "code",
   "execution_count": 21,
   "id": "31d63967-0242-42b4-9817-a3bec0211f6a",
   "metadata": {},
   "outputs": [],
   "source": [
    "def build_message_object():\n",
    "    \n",
    "    messages_files_full_path_dir = os.path.join(os.getcwd(), \"messages\")\n",
    "    files = get_files_with_messages_by_position(messages_files_full_path_dir)\n",
    "    message_obj = {}\n",
    "    \n",
    "    for file in files:\n",
    "        complete_file_path = os.path.join(messages_files_full_path_dir, file)\n",
    "        [file_name, _] = file.split(\".\")\n",
    "\n",
    "        with open(complete_file_path, 'r', encoding=\"utf-8\") as f:\n",
    "            [message] = f.readlines()\n",
    "            message_obj[file_name] = message\n",
    "    \n",
    "    return message_obj"
   ]
  },
  {
   "cell_type": "code",
   "execution_count": 22,
   "id": "9f19fb7a-6302-4311-bce5-a91a4a84ab5f",
   "metadata": {},
   "outputs": [],
   "source": [
    "def press_connect_button(driver, name):\n",
    "    time.sleep(3)\n",
    "    first_name, *_ = name.split(\" \")\n",
    "    \n",
    "    button = section + connect_button\n",
    "    \n",
    "    conect_button_aria_label = f\"Invita a {name} a conectar\"\n",
    "    send_button_aria_label = f\"Enviar mensaje a {first_name}\"\n",
    "    \n",
    "    go = 'error'\n",
    "    profile_message_buttons = driver.find_elements(By.XPATH, button)\n",
    "    driver.implicitly_wait(10)\n",
    "\n",
    "    for btn in profile_message_buttons:\n",
    "        attr = btn.get_attribute(\"aria-label\")\n",
    "        attr_exist = bool(attr) == True\n",
    "        \n",
    "        if attr_exist == True and conect_button_aria_label.lower() == attr.lower():\n",
    "            ActionChains(driver).move_to_element(btn).click(btn).perform()\n",
    "            go = 'go'\n",
    "            break\n",
    "            \n",
    "        \n",
    "        if attr_exist == True and 'pendiente' in attr.lower():\n",
    "            go = 'contacted'\n",
    "            break\n",
    "            \n",
    "        if attr_exist == True and 'seguir' in attr.lower():\n",
    "            btn.click()\n",
    "            go = 'can_not_contact'\n",
    "            break\n",
    "        \n",
    "        if attr_exist == True and send_button_aria_label.lower() in attr.lower():\n",
    "            go = 'contacted'\n",
    "            \n",
    "\n",
    "    return go"
   ]
  },
  {
   "cell_type": "code",
   "execution_count": 23,
   "id": "3b0aab2a-094f-400d-a764-39c521d58dea",
   "metadata": {},
   "outputs": [],
   "source": [
    "def press_add_note_button_on_modal(drive):\n",
    "    _note_button = connect_modal + note_button\n",
    "    note_button_ele = driver.find_element(By.XPATH, _note_button)  \n",
    "    note_button_ele.click()"
   ]
  },
  {
   "cell_type": "code",
   "execution_count": 24,
   "id": "c32f81b3-6e38-4154-a8c6-a4dac0b82687",
   "metadata": {},
   "outputs": [],
   "source": [
    "def add_note(driver, message):\n",
    "    text_area_input = driver.find_element(By.XPATH, text_area)\n",
    "    text_area_input.send_keys(message)"
   ]
  },
  {
   "cell_type": "code",
   "execution_count": 25,
   "id": "ad1b0e5e-c088-4946-b4fe-f105dd40263b",
   "metadata": {},
   "outputs": [],
   "source": [
    "def select_message(position, messages):\n",
    "    \n",
    "    buyer = 'compras'\n",
    "    maintenance = 'mantenimiento'\n",
    "         \n",
    "    if  position == 'compras' or position == 'logistica' or position == 'logística':\n",
    "        return messages[buyer]\n",
    "    \n",
    "    return messages[maintenance]"
   ]
  },
  {
   "cell_type": "code",
   "execution_count": 26,
   "id": "6e1d6ddb-68b2-4178-81e1-171aebf4d6d2",
   "metadata": {},
   "outputs": [],
   "source": [
    "def get_message(name, position, messages):\n",
    "    first_name = name.split(\" \")[0]\n",
    "    header = f\"Hola {first_name},\\n\"\n",
    "    message = select_message(position, messages)\n",
    "    \n",
    "    return header + message\n",
    "    "
   ]
  },
  {
   "cell_type": "code",
   "execution_count": 27,
   "id": "4721d7c8-419a-43d8-8fe1-49dcc03a7dbc",
   "metadata": {},
   "outputs": [],
   "source": [
    "def send_message(driver):\n",
    "    btn = send_message_buttons_container + send_message_button\n",
    "    send = driver.find_element(By.XPATH, btn)\n",
    "    send.click()"
   ]
  },
  {
   "cell_type": "code",
   "execution_count": 28,
   "id": "5745c9de-8da0-4f29-889c-94b2824b1b02",
   "metadata": {},
   "outputs": [],
   "source": [
    "def save_in_result_file(status, people, index, company_name):\n",
    "    \n",
    "    name, position, key, page, link = people['name'], people['position'], people['key_position'], people['page'], people['link']\n",
    "\n",
    "    with open(f\"{company_name}.csv\", \"a\", encoding=\"utf-8\") as file:\n",
    "        file.write(f\"{index+1},{name},{position},{key},{page},{company_name},{status},{link}\")\n",
    "        file.write(\"\\n\")"
   ]
  },
  {
   "cell_type": "code",
   "execution_count": 29,
   "id": "b2cb34d3-0c72-49c8-8abe-cc35a6b48f21",
   "metadata": {},
   "outputs": [],
   "source": [
    "time_to_sleep = lambda min = 1, max = 10: choice(range(min, max))"
   ]
  },
  {
   "cell_type": "code",
   "execution_count": 30,
   "id": "195ee910-24e6-4d7f-bc56-ebaf823bf37f",
   "metadata": {},
   "outputs": [],
   "source": [
    "def send_message_to_every_contac(all_peoples):\n",
    "    \n",
    "    total_people = len(all_peoples)\n",
    "    people_contacted = []\n",
    "    people_not_contacted = []\n",
    "    people_already_contacted = []\n",
    "    \n",
    "    messages = build_message_object()\n",
    "    \n",
    "    for index,people in enumerate(all_peoples):\n",
    "        name, position = people['name'], people['key_position']\n",
    "        message = get_message(name, position, messages)\n",
    "        driver.get(people['link'])\n",
    "        go = press_connect_button(driver, name)\n",
    "\n",
    "        if go == 'go':\n",
    "            press_add_note_button_on_modal(driver)\n",
    "            add_note(driver, message)\n",
    "            time.sleep(time_to_sleep(3, 8))\n",
    "            \n",
    "            send_message(driver)\n",
    "            people_contacted.append(people)\n",
    "            save_in_result_file('contacted', people, index, company_name)\n",
    "                \n",
    "        elif go == 'contacted':\n",
    "            people_already_contacted.append(people)\n",
    "            save_in_result_file('already_contacted', people, index, company_name)\n",
    "            \n",
    "        elif go == 'can_not_contact':\n",
    "            people_not_contacted.append(people)\n",
    "            save_in_result_file('can_not_contact', people, index, company_name)\n",
    "            \n",
    "        else:\n",
    "            people_not_contacted.append(people)\n",
    "            save_in_result_file('error', people, index, company_name)\n",
    "            \n",
    "        print(f\"index: {index}\")\n",
    "\n",
    "        time.sleep(time_to_sleep(5, 16))\n",
    "    \n",
    "    print(f\"Total contactos: {total_people}\\nMensajes Enviados: {len(people_contacted)}\\nMensajes no enviados: {len(people_not_contacted)}\\nMensajes ya enviados: {len(people_already_contacted)}\")\n",
    "    \n",
    "    return total_people, people_contacted, people_already_contacted, people_not_contacted"
   ]
  },
  {
   "cell_type": "code",
   "execution_count": 31,
   "id": "87401393-4e2e-4e14-8f0f-551b241e8f13",
   "metadata": {},
   "outputs": [
    {
     "name": "stdout",
     "output_type": "stream",
     "text": [
      "index: 0\n",
      "index: 1\n",
      "index: 2\n",
      "index: 3\n",
      "index: 4\n",
      "index: 5\n",
      "index: 6\n",
      "index: 7\n",
      "index: 8\n",
      "index: 9\n",
      "index: 10\n",
      "index: 11\n",
      "index: 12\n",
      "Total contactos: 13\n",
      "Mensajes Enviados: 7\n",
      "Mensajes no enviados: 4\n",
      "Mensajes ya enviados: 2\n"
     ]
    }
   ],
   "source": [
    "total, contacted, already_contacted, not_sent = send_message_to_every_contac(employees[:50])"
   ]
  },
  {
   "cell_type": "code",
   "execution_count": null,
   "id": "818614ac-b61f-4102-8846-cde316730298",
   "metadata": {},
   "outputs": [],
   "source": []
  }
 ],
 "metadata": {
  "kernelspec": {
   "display_name": "Python 3 (ipykernel)",
   "language": "python",
   "name": "python3"
  },
  "language_info": {
   "codemirror_mode": {
    "name": "ipython",
    "version": 3
   },
   "file_extension": ".py",
   "mimetype": "text/x-python",
   "name": "python",
   "nbconvert_exporter": "python",
   "pygments_lexer": "ipython3",
   "version": "3.11.3"
  }
 },
 "nbformat": 4,
 "nbformat_minor": 5
}
